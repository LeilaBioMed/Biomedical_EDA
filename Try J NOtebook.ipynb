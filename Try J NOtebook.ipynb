{
 "cells": [
  {
   "cell_type": "code",
   "execution_count": 1,
   "id": "0cd034b5-f8f4-4ef0-9d25-5f8e40e62178",
   "metadata": {},
   "outputs": [
    {
     "name": "stdout",
     "output_type": "stream",
     "text": [
      "1 is fard\n",
      "2 is zoj\n",
      "3 is fard\n",
      "4 is zoj\n",
      "5 is fard\n",
      "6 is zoj\n",
      "7 is fard\n",
      "8 is zoj\n",
      "tedad adade zoj = 4\n",
      "number is 1\n",
      "number is 2\n",
      "number is 3\n",
      "number is 4\n",
      "number is 5\n",
      "number is 6\n",
      "number is 7\n",
      "number is 8\n"
     ]
    }
   ],
   "source": [
    "count = 0\n",
    "my_list = [23, 42, 86]\n",
    "\n",
    "for i in my_list:\n",
    "    if (i % 2) == 0:\n",
    "        print(f\"{i} is zoj\")\n",
    "        count += 1 # count= count + 1\n",
    "    else:\n",
    "        print(f\"{i} is fard\")\n",
    "\n",
    "print(f\"tedad adade zoj = {count}\")\n",
    "\n",
    "\n",
    "for _ in my_list: #we can use \"_\" in for loop\n",
    "    print(f\"number is {_}\")"
   ]
  },
  {
   "cell_type": "code",
   "execution_count": null,
   "id": "33edd176-9ddc-4fb6-9c26-1e4d7d0c3eef",
   "metadata": {},
   "outputs": [],
   "source": []
  }
 ],
 "metadata": {
  "kernelspec": {
   "display_name": "Python [conda env:base] *",
   "language": "python",
   "name": "conda-base-py"
  },
  "language_info": {
   "codemirror_mode": {
    "name": "ipython",
    "version": 3
   },
   "file_extension": ".py",
   "mimetype": "text/x-python",
   "name": "python",
   "nbconvert_exporter": "python",
   "pygments_lexer": "ipython3",
   "version": "3.13.5"
  }
 },
 "nbformat": 4,
 "nbformat_minor": 5
}
