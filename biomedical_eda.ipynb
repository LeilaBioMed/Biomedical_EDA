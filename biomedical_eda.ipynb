{
 "cells": [
  {
   "cell_type": "markdown",
   "id": "23924729",
   "metadata": {},
   "source": [
    "# 🧪 Biomedical EDA Notebook\n",
    "\n",
    "Start your analysis here."
   ]
  },
  {
   "cell_type": "code",
   "execution_count": null,
   "id": "c32e838a",
   "metadata": {},
   "outputs": [],
   "source": [
    "import pandas as pd\n",
    "\n",
    "df = pd.read_csv('synthetic_biomedical_data.csv')\n",
    "df.head()"
   ]
  }
 ],
 "metadata": {},
 "nbformat": 4,
 "nbformat_minor": 5
}
